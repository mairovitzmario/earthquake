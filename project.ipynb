{
 "cells": [
  {
   "cell_type": "markdown",
   "metadata": {},
   "source": [
    "This project's purpose is to analyze the earthquakes felt around Arad in the last 70 years and to check for any patterns"
   ]
  },
  {
   "cell_type": "code",
   "execution_count": 2,
   "metadata": {},
   "outputs": [],
   "source": [
    "import pandas as pd\n",
    "import numpy as np\n",
    "import matplotlib.pyplot as plt\n",
    "import requests"
   ]
  },
  {
   "cell_type": "markdown",
   "metadata": {},
   "source": [
    "Going to use the USGS earthquake collection API "
   ]
  },
  {
   "cell_type": "code",
   "execution_count": 3,
   "metadata": {},
   "outputs": [],
   "source": [
    "start_time = 'now-25620days'\n",
    "min_magnitude = 3\n",
    "# Arad's GPS coordinates\n",
    "latitude = 46.186723 \n",
    "longitude = 21.305499\n",
    "max_radius_km = 700"
   ]
  },
  {
   "cell_type": "code",
   "execution_count": 4,
   "metadata": {},
   "outputs": [],
   "source": [
    "url = requests.get(f'https://earthquake.usgs.gov/fdsnws/event/1/query?format=geojson&starttime={start_time}&minmagnitude={min_magnitude}&latitude={latitude}&longitude={longitude}&maxradiuskm={max_radius_km}')\n",
    "dataset = url.json()"
   ]
  },
  {
   "cell_type": "markdown",
   "metadata": {},
   "source": [
    "We need to parse the data and load it into a pandas dataframe for easier manipulation"
   ]
  },
  {
   "cell_type": "code",
   "execution_count": 5,
   "metadata": {},
   "outputs": [
    {
     "data": {
      "text/plain": [
       "dict_keys(['type', 'metadata', 'features', 'bbox'])"
      ]
     },
     "execution_count": 5,
     "metadata": {},
     "output_type": "execute_result"
    }
   ],
   "source": [
    "dataset.keys()"
   ]
  },
  {
   "cell_type": "code",
   "execution_count": 6,
   "metadata": {},
   "outputs": [],
   "source": [
    "dataset = dataset['features']"
   ]
  },
  {
   "cell_type": "code",
   "execution_count": 7,
   "metadata": {},
   "outputs": [],
   "source": [
    "place = []\n",
    "magnitude = []\n",
    "time = []\n",
    "lat = []\n",
    "lon = []\n",
    "\n",
    "for feature in dataset:\n",
    "    place.append(feature['properties']['place'])\n",
    "    magnitude.append(feature['properties']['mag'])\n",
    "    time.append(pd.to_datetime(feature['properties']['time'], unit='ms').strftime('%y/%m/%d %H:%M:%S'))\n",
    "    lat.append(feature['geometry']['coordinates'][1])\n",
    "    lon.append(feature['geometry']['coordinates'][0])"
   ]
  },
  {
   "cell_type": "code",
   "execution_count": 8,
   "metadata": {},
   "outputs": [],
   "source": [
    "dataset_dict = {'place':place, 'magnitude':magnitude, 'time':time, 'lat':lat, 'lon':lon}"
   ]
  },
  {
   "cell_type": "code",
   "execution_count": 9,
   "metadata": {},
   "outputs": [],
   "source": [
    "df = pd.DataFrame(dataset_dict)"
   ]
  },
  {
   "cell_type": "code",
   "execution_count": 10,
   "metadata": {},
   "outputs": [
    {
     "data": {
      "text/html": [
       "<div>\n",
       "<style scoped>\n",
       "    .dataframe tbody tr th:only-of-type {\n",
       "        vertical-align: middle;\n",
       "    }\n",
       "\n",
       "    .dataframe tbody tr th {\n",
       "        vertical-align: top;\n",
       "    }\n",
       "\n",
       "    .dataframe thead th {\n",
       "        text-align: right;\n",
       "    }\n",
       "</style>\n",
       "<table border=\"1\" class=\"dataframe\">\n",
       "  <thead>\n",
       "    <tr style=\"text-align: right;\">\n",
       "      <th></th>\n",
       "      <th>place</th>\n",
       "      <th>magnitude</th>\n",
       "      <th>time</th>\n",
       "      <th>lat</th>\n",
       "      <th>lon</th>\n",
       "    </tr>\n",
       "  </thead>\n",
       "  <tbody>\n",
       "    <tr>\n",
       "      <th>0</th>\n",
       "      <td>2 km SSW of Rakovica, Croatia</td>\n",
       "      <td>4.30</td>\n",
       "      <td>24/05/01 17:03:52</td>\n",
       "      <td>44.9763</td>\n",
       "      <td>15.6409</td>\n",
       "    </tr>\n",
       "    <tr>\n",
       "      <th>1</th>\n",
       "      <td>4 km W of Rakovica, Croatia</td>\n",
       "      <td>4.40</td>\n",
       "      <td>24/05/01 03:38:47</td>\n",
       "      <td>44.9948</td>\n",
       "      <td>15.5934</td>\n",
       "    </tr>\n",
       "    <tr>\n",
       "      <th>2</th>\n",
       "      <td>7 km SSE of Eşelniţa, Romania</td>\n",
       "      <td>4.20</td>\n",
       "      <td>24/04/30 05:42:05</td>\n",
       "      <td>44.6370</td>\n",
       "      <td>22.3900</td>\n",
       "    </tr>\n",
       "    <tr>\n",
       "      <th>3</th>\n",
       "      <td>20 km SSW of Plužine, Montenegro</td>\n",
       "      <td>4.40</td>\n",
       "      <td>24/04/03 10:40:45</td>\n",
       "      <td>42.9884</td>\n",
       "      <td>18.7180</td>\n",
       "    </tr>\n",
       "    <tr>\n",
       "      <th>4</th>\n",
       "      <td>21 km ENE of Bileća, Bosnia and Herzegovina</td>\n",
       "      <td>4.00</td>\n",
       "      <td>24/04/02 19:07:42</td>\n",
       "      <td>42.9745</td>\n",
       "      <td>18.6501</td>\n",
       "    </tr>\n",
       "    <tr>\n",
       "      <th>...</th>\n",
       "      <td>...</td>\n",
       "      <td>...</td>\n",
       "      <td>...</td>\n",
       "      <td>...</td>\n",
       "      <td>...</td>\n",
       "    </tr>\n",
       "    <tr>\n",
       "      <th>10192</th>\n",
       "      <td>35 km ESE of Shabla, Bulgaria</td>\n",
       "      <td>5.50</td>\n",
       "      <td>56/06/30 01:50:24</td>\n",
       "      <td>43.4710</td>\n",
       "      <td>28.9590</td>\n",
       "    </tr>\n",
       "    <tr>\n",
       "      <th>10193</th>\n",
       "      <td>9 km NNW of Sokolac, Bosnia and Herzegovina</td>\n",
       "      <td>5.28</td>\n",
       "      <td>56/06/28 17:42:34</td>\n",
       "      <td>44.0240</td>\n",
       "      <td>18.7770</td>\n",
       "    </tr>\n",
       "    <tr>\n",
       "      <th>10194</th>\n",
       "      <td>3 km W of Ecser, Hungary</td>\n",
       "      <td>5.79</td>\n",
       "      <td>56/01/12 05:46:13</td>\n",
       "      <td>47.4430</td>\n",
       "      <td>19.2820</td>\n",
       "    </tr>\n",
       "    <tr>\n",
       "      <th>10195</th>\n",
       "      <td>2 km SSE of Karyótissa, Greece</td>\n",
       "      <td>5.53</td>\n",
       "      <td>55/07/09 23:53:44</td>\n",
       "      <td>40.7460</td>\n",
       "      <td>22.3290</td>\n",
       "    </tr>\n",
       "    <tr>\n",
       "      <th>10196</th>\n",
       "      <td>9 km SSE of Chalástra, Greece</td>\n",
       "      <td>5.13</td>\n",
       "      <td>54/12/30 02:07:24</td>\n",
       "      <td>40.5430</td>\n",
       "      <td>22.7570</td>\n",
       "    </tr>\n",
       "  </tbody>\n",
       "</table>\n",
       "<p>10197 rows × 5 columns</p>\n",
       "</div>"
      ],
      "text/plain": [
       "                                             place  magnitude  \\\n",
       "0                    2 km SSW of Rakovica, Croatia       4.30   \n",
       "1                      4 km W of Rakovica, Croatia       4.40   \n",
       "2                    7 km SSE of Eşelniţa, Romania       4.20   \n",
       "3                 20 km SSW of Plužine, Montenegro       4.40   \n",
       "4      21 km ENE of Bileća, Bosnia and Herzegovina       4.00   \n",
       "...                                            ...        ...   \n",
       "10192                35 km ESE of Shabla, Bulgaria       5.50   \n",
       "10193  9 km NNW of Sokolac, Bosnia and Herzegovina       5.28   \n",
       "10194                     3 km W of Ecser, Hungary       5.79   \n",
       "10195               2 km SSE of Karyótissa, Greece       5.53   \n",
       "10196                9 km SSE of Chalástra, Greece       5.13   \n",
       "\n",
       "                    time      lat      lon  \n",
       "0      24/05/01 17:03:52  44.9763  15.6409  \n",
       "1      24/05/01 03:38:47  44.9948  15.5934  \n",
       "2      24/04/30 05:42:05  44.6370  22.3900  \n",
       "3      24/04/03 10:40:45  42.9884  18.7180  \n",
       "4      24/04/02 19:07:42  42.9745  18.6501  \n",
       "...                  ...      ...      ...  \n",
       "10192  56/06/30 01:50:24  43.4710  28.9590  \n",
       "10193  56/06/28 17:42:34  44.0240  18.7770  \n",
       "10194  56/01/12 05:46:13  47.4430  19.2820  \n",
       "10195  55/07/09 23:53:44  40.7460  22.3290  \n",
       "10196  54/12/30 02:07:24  40.5430  22.7570  \n",
       "\n",
       "[10197 rows x 5 columns]"
      ]
     },
     "execution_count": 10,
     "metadata": {},
     "output_type": "execute_result"
    }
   ],
   "source": [
    "df.head(-1)"
   ]
  },
  {
   "cell_type": "markdown",
   "metadata": {},
   "source": [
    "The next step is calculating the distance from our original coordinates (Arad)."
   ]
  },
  {
   "cell_type": "code",
   "execution_count": 11,
   "metadata": {},
   "outputs": [],
   "source": [
    "\n",
    "def calculate_distance(lat1, lon1, lat2, lon2):\n",
    "    # Radius of the Earth in kilometers\n",
    "    R = 6371.0\n",
    "\n",
    "    # Convert latitude and longitude from degrees to radians\n",
    "    lat1, lon1, lat2, lon2 = np.radians([lat1, lon1, lat2, lon2])\n",
    "\n",
    "    # Calculate the change in coordinates\n",
    "    dlon = lon2 - lon1\n",
    "    dlat = lat2 - lat1\n",
    "\n",
    "    # Haversine formula\n",
    "    a = np.sin(dlat / 2)**2 + np.cos(lat1) * np.cos(lat2) * np.sin(dlon / 2)**2\n",
    "    c = 2 * np.arctan2(np.sqrt(a), np.sqrt(1 - a))\n",
    "\n",
    "    # Calculate the distance\n",
    "    distance = R * c\n",
    "\n",
    "    return np.round(distance,2)"
   ]
  },
  {
   "cell_type": "code",
   "execution_count": 12,
   "metadata": {},
   "outputs": [],
   "source": [
    "df['distance'] = df.apply(lambda row:calculate_distance(latitude,longitude, row['lat'],row['lon']) , axis = 1)"
   ]
  },
  {
   "cell_type": "code",
   "execution_count": 13,
   "metadata": {},
   "outputs": [
    {
     "data": {
      "text/html": [
       "<div>\n",
       "<style scoped>\n",
       "    .dataframe tbody tr th:only-of-type {\n",
       "        vertical-align: middle;\n",
       "    }\n",
       "\n",
       "    .dataframe tbody tr th {\n",
       "        vertical-align: top;\n",
       "    }\n",
       "\n",
       "    .dataframe thead th {\n",
       "        text-align: right;\n",
       "    }\n",
       "</style>\n",
       "<table border=\"1\" class=\"dataframe\">\n",
       "  <thead>\n",
       "    <tr style=\"text-align: right;\">\n",
       "      <th></th>\n",
       "      <th>place</th>\n",
       "      <th>magnitude</th>\n",
       "      <th>time</th>\n",
       "      <th>lat</th>\n",
       "      <th>lon</th>\n",
       "      <th>distance</th>\n",
       "    </tr>\n",
       "  </thead>\n",
       "  <tbody>\n",
       "    <tr>\n",
       "      <th>0</th>\n",
       "      <td>2 km SSW of Rakovica, Croatia</td>\n",
       "      <td>4.3</td>\n",
       "      <td>24/05/01 17:03:52</td>\n",
       "      <td>44.9763</td>\n",
       "      <td>15.6409</td>\n",
       "      <td>460.81</td>\n",
       "    </tr>\n",
       "    <tr>\n",
       "      <th>1</th>\n",
       "      <td>4 km W of Rakovica, Croatia</td>\n",
       "      <td>4.4</td>\n",
       "      <td>24/05/01 03:38:47</td>\n",
       "      <td>44.9948</td>\n",
       "      <td>15.5934</td>\n",
       "      <td>463.69</td>\n",
       "    </tr>\n",
       "    <tr>\n",
       "      <th>2</th>\n",
       "      <td>7 km SSE of Eşelniţa, Romania</td>\n",
       "      <td>4.2</td>\n",
       "      <td>24/04/30 05:42:05</td>\n",
       "      <td>44.6370</td>\n",
       "      <td>22.3900</td>\n",
       "      <td>191.99</td>\n",
       "    </tr>\n",
       "    <tr>\n",
       "      <th>3</th>\n",
       "      <td>20 km SSW of Plužine, Montenegro</td>\n",
       "      <td>4.4</td>\n",
       "      <td>24/04/03 10:40:45</td>\n",
       "      <td>42.9884</td>\n",
       "      <td>18.7180</td>\n",
       "      <td>410.39</td>\n",
       "    </tr>\n",
       "    <tr>\n",
       "      <th>4</th>\n",
       "      <td>21 km ENE of Bileća, Bosnia and Herzegovina</td>\n",
       "      <td>4.0</td>\n",
       "      <td>24/04/02 19:07:42</td>\n",
       "      <td>42.9745</td>\n",
       "      <td>18.6501</td>\n",
       "      <td>414.44</td>\n",
       "    </tr>\n",
       "  </tbody>\n",
       "</table>\n",
       "</div>"
      ],
      "text/plain": [
       "                                         place  magnitude               time  \\\n",
       "0                2 km SSW of Rakovica, Croatia        4.3  24/05/01 17:03:52   \n",
       "1                  4 km W of Rakovica, Croatia        4.4  24/05/01 03:38:47   \n",
       "2                7 km SSE of Eşelniţa, Romania        4.2  24/04/30 05:42:05   \n",
       "3             20 km SSW of Plužine, Montenegro        4.4  24/04/03 10:40:45   \n",
       "4  21 km ENE of Bileća, Bosnia and Herzegovina        4.0  24/04/02 19:07:42   \n",
       "\n",
       "       lat      lon  distance  \n",
       "0  44.9763  15.6409    460.81  \n",
       "1  44.9948  15.5934    463.69  \n",
       "2  44.6370  22.3900    191.99  \n",
       "3  42.9884  18.7180    410.39  \n",
       "4  42.9745  18.6501    414.44  "
      ]
     },
     "execution_count": 13,
     "metadata": {},
     "output_type": "execute_result"
    }
   ],
   "source": [
    "df.head()"
   ]
  },
  {
   "cell_type": "markdown",
   "metadata": {},
   "source": [
    "Now let's convert the time into a datetime pandas object"
   ]
  },
  {
   "cell_type": "code",
   "execution_count": 14,
   "metadata": {},
   "outputs": [],
   "source": [
    "def parse_data(x):\n",
    "    x = x.split(' ')[0]\n",
    "    year, month, date = x.split('/')\n",
    "\n",
    "    if year >='36':\n",
    "        year = '19' + year\n",
    "    else:\n",
    "        year = '20' + year\n",
    "    return pd.to_datetime(f'{year}-{month}-{date}')\n"
   ]
  },
  {
   "cell_type": "code",
   "execution_count": 15,
   "metadata": {},
   "outputs": [],
   "source": [
    "df['time'] = df['time'].apply(lambda x:parse_data(x))"
   ]
  },
  {
   "cell_type": "code",
   "execution_count": 16,
   "metadata": {},
   "outputs": [
    {
     "data": {
      "text/html": [
       "<div>\n",
       "<style scoped>\n",
       "    .dataframe tbody tr th:only-of-type {\n",
       "        vertical-align: middle;\n",
       "    }\n",
       "\n",
       "    .dataframe tbody tr th {\n",
       "        vertical-align: top;\n",
       "    }\n",
       "\n",
       "    .dataframe thead th {\n",
       "        text-align: right;\n",
       "    }\n",
       "</style>\n",
       "<table border=\"1\" class=\"dataframe\">\n",
       "  <thead>\n",
       "    <tr style=\"text-align: right;\">\n",
       "      <th></th>\n",
       "      <th>place</th>\n",
       "      <th>magnitude</th>\n",
       "      <th>time</th>\n",
       "      <th>lat</th>\n",
       "      <th>lon</th>\n",
       "      <th>distance</th>\n",
       "    </tr>\n",
       "  </thead>\n",
       "  <tbody>\n",
       "    <tr>\n",
       "      <th>0</th>\n",
       "      <td>2 km SSW of Rakovica, Croatia</td>\n",
       "      <td>4.3</td>\n",
       "      <td>2024-05-01</td>\n",
       "      <td>44.9763</td>\n",
       "      <td>15.6409</td>\n",
       "      <td>460.81</td>\n",
       "    </tr>\n",
       "    <tr>\n",
       "      <th>1</th>\n",
       "      <td>4 km W of Rakovica, Croatia</td>\n",
       "      <td>4.4</td>\n",
       "      <td>2024-05-01</td>\n",
       "      <td>44.9948</td>\n",
       "      <td>15.5934</td>\n",
       "      <td>463.69</td>\n",
       "    </tr>\n",
       "    <tr>\n",
       "      <th>2</th>\n",
       "      <td>7 km SSE of Eşelniţa, Romania</td>\n",
       "      <td>4.2</td>\n",
       "      <td>2024-04-30</td>\n",
       "      <td>44.6370</td>\n",
       "      <td>22.3900</td>\n",
       "      <td>191.99</td>\n",
       "    </tr>\n",
       "    <tr>\n",
       "      <th>3</th>\n",
       "      <td>20 km SSW of Plužine, Montenegro</td>\n",
       "      <td>4.4</td>\n",
       "      <td>2024-04-03</td>\n",
       "      <td>42.9884</td>\n",
       "      <td>18.7180</td>\n",
       "      <td>410.39</td>\n",
       "    </tr>\n",
       "    <tr>\n",
       "      <th>4</th>\n",
       "      <td>21 km ENE of Bileća, Bosnia and Herzegovina</td>\n",
       "      <td>4.0</td>\n",
       "      <td>2024-04-02</td>\n",
       "      <td>42.9745</td>\n",
       "      <td>18.6501</td>\n",
       "      <td>414.44</td>\n",
       "    </tr>\n",
       "  </tbody>\n",
       "</table>\n",
       "</div>"
      ],
      "text/plain": [
       "                                         place  magnitude       time      lat  \\\n",
       "0                2 km SSW of Rakovica, Croatia        4.3 2024-05-01  44.9763   \n",
       "1                  4 km W of Rakovica, Croatia        4.4 2024-05-01  44.9948   \n",
       "2                7 km SSE of Eşelniţa, Romania        4.2 2024-04-30  44.6370   \n",
       "3             20 km SSW of Plužine, Montenegro        4.4 2024-04-03  42.9884   \n",
       "4  21 km ENE of Bileća, Bosnia and Herzegovina        4.0 2024-04-02  42.9745   \n",
       "\n",
       "       lon  distance  \n",
       "0  15.6409    460.81  \n",
       "1  15.5934    463.69  \n",
       "2  22.3900    191.99  \n",
       "3  18.7180    410.39  \n",
       "4  18.6501    414.44  "
      ]
     },
     "execution_count": 16,
     "metadata": {},
     "output_type": "execute_result"
    }
   ],
   "source": [
    "df.head()"
   ]
  },
  {
   "cell_type": "code",
   "execution_count": 17,
   "metadata": {},
   "outputs": [
    {
     "data": {
      "text/plain": [
       "place                object\n",
       "magnitude           float64\n",
       "time         datetime64[ns]\n",
       "lat                 float64\n",
       "lon                 float64\n",
       "distance            float64\n",
       "dtype: object"
      ]
     },
     "execution_count": 17,
     "metadata": {},
     "output_type": "execute_result"
    }
   ],
   "source": [
    "df.dtypes"
   ]
  },
  {
   "cell_type": "markdown",
   "metadata": {},
   "source": [
    "We need a way to sort the earthquakes by their approximated impact on Arad. While magnitude is not dirrectly correlated to the distance, it is impossible to find an exact formula for what we need.\n",
    "What we know, though, is that an earthquake with a higher magnitude and a shorter distance from Arad is felt the most. Using this logic, it is easy to deduce the ratio of MAGNITUDE/DISTANCE. However, the magnitude on the richter scale scales exponentially. This is not an exact number, but I tweaked with the power that we raise it until on the top earthquakes list we could find the earthquakes that locals remember experiencing in this city. The notable earthquakes that we were looking for are: the 2 earthquakes in 2023 that happened in Arad county (which I have personally experienced), the biggest and most destructive earthquake in Romania (1977, near Bucharest) and the 1991 Ciacova earthquake.\n",
    "Knowing these 4 earthquakes that people said they felt while living in Arad, we can tweak with the power we raise the magnitude by to get an approximation of the correlation between magnitude and distance. This is not a highly accurrate formula, because a high magnitude does not necessarily mean a large radius, but due to the lack of data, this is the closest formula I could get to retrieve a list of the most \"felt\" earthquakes in Arad."
   ]
  },
  {
   "cell_type": "code",
   "execution_count": 18,
   "metadata": {},
   "outputs": [],
   "source": [
    "df['ratio'] = df.apply(lambda x:(x['magnitude']**6.5)/x['distance'], axis=1)"
   ]
  },
  {
   "cell_type": "code",
   "execution_count": 19,
   "metadata": {},
   "outputs": [
    {
     "data": {
      "text/html": [
       "<div>\n",
       "<style scoped>\n",
       "    .dataframe tbody tr th:only-of-type {\n",
       "        vertical-align: middle;\n",
       "    }\n",
       "\n",
       "    .dataframe tbody tr th {\n",
       "        vertical-align: top;\n",
       "    }\n",
       "\n",
       "    .dataframe thead th {\n",
       "        text-align: right;\n",
       "    }\n",
       "</style>\n",
       "<table border=\"1\" class=\"dataframe\">\n",
       "  <thead>\n",
       "    <tr style=\"text-align: right;\">\n",
       "      <th></th>\n",
       "      <th>place</th>\n",
       "      <th>time</th>\n",
       "      <th>magnitude</th>\n",
       "      <th>distance</th>\n",
       "      <th>ratio</th>\n",
       "    </tr>\n",
       "  </thead>\n",
       "  <tbody>\n",
       "    <tr>\n",
       "      <th>10090</th>\n",
       "      <td>4 km S of M?n??tur, Romania</td>\n",
       "      <td>1974-04-17</td>\n",
       "      <td>5.60</td>\n",
       "      <td>27.04</td>\n",
       "      <td>2699.078329</td>\n",
       "    </tr>\n",
       "    <tr>\n",
       "      <th>52</th>\n",
       "      <td>6 km SW of Frumu?eni, Romania</td>\n",
       "      <td>2023-06-06</td>\n",
       "      <td>4.70</td>\n",
       "      <td>15.47</td>\n",
       "      <td>1510.587070</td>\n",
       "    </tr>\n",
       "    <tr>\n",
       "      <th>9869</th>\n",
       "      <td>2 km N of Spulber, Romania</td>\n",
       "      <td>1977-03-04</td>\n",
       "      <td>7.50</td>\n",
       "      <td>423.98</td>\n",
       "      <td>1149.616111</td>\n",
       "    </tr>\n",
       "    <tr>\n",
       "      <th>8182</th>\n",
       "      <td>7 km NNE of Ca?oca, Romania</td>\n",
       "      <td>1986-08-30</td>\n",
       "      <td>7.20</td>\n",
       "      <td>394.35</td>\n",
       "      <td>947.936796</td>\n",
       "    </tr>\n",
       "    <tr>\n",
       "      <th>6649</th>\n",
       "      <td>1 km SW of Ciacova, Romania</td>\n",
       "      <td>1991-12-02</td>\n",
       "      <td>5.50</td>\n",
       "      <td>77.99</td>\n",
       "      <td>832.374106</td>\n",
       "    </tr>\n",
       "    <tr>\n",
       "      <th>10184</th>\n",
       "      <td>6 km ESE of Cenei, Romania</td>\n",
       "      <td>1959-05-27</td>\n",
       "      <td>5.28</td>\n",
       "      <td>60.09</td>\n",
       "      <td>828.549181</td>\n",
       "    </tr>\n",
       "    <tr>\n",
       "      <th>53</th>\n",
       "      <td>2 km S of Fântânele, Romania</td>\n",
       "      <td>2023-05-22</td>\n",
       "      <td>4.10</td>\n",
       "      <td>11.70</td>\n",
       "      <td>822.070771</td>\n",
       "    </tr>\n",
       "    <tr>\n",
       "      <th>6814</th>\n",
       "      <td>2 km S of Livezile, Romania</td>\n",
       "      <td>1991-07-12</td>\n",
       "      <td>5.60</td>\n",
       "      <td>93.49</td>\n",
       "      <td>780.651171</td>\n",
       "    </tr>\n",
       "    <tr>\n",
       "      <th>7186</th>\n",
       "      <td>5 km W of Nistore?ti, Romania</td>\n",
       "      <td>1990-05-30</td>\n",
       "      <td>7.00</td>\n",
       "      <td>415.81</td>\n",
       "      <td>748.587085</td>\n",
       "    </tr>\n",
       "    <tr>\n",
       "      <th>9615</th>\n",
       "      <td>6 km E of Stari Bar, Montenegro</td>\n",
       "      <td>1979-04-15</td>\n",
       "      <td>6.90</td>\n",
       "      <td>484.61</td>\n",
       "      <td>584.960739</td>\n",
       "    </tr>\n",
       "  </tbody>\n",
       "</table>\n",
       "</div>"
      ],
      "text/plain": [
       "                                 place       time  magnitude  distance  \\\n",
       "10090      4 km S of M?n??tur, Romania 1974-04-17       5.60     27.04   \n",
       "52       6 km SW of Frumu?eni, Romania 2023-06-06       4.70     15.47   \n",
       "9869        2 km N of Spulber, Romania 1977-03-04       7.50    423.98   \n",
       "8182       7 km NNE of Ca?oca, Romania 1986-08-30       7.20    394.35   \n",
       "6649       1 km SW of Ciacova, Romania 1991-12-02       5.50     77.99   \n",
       "10184       6 km ESE of Cenei, Romania 1959-05-27       5.28     60.09   \n",
       "53        2 km S of Fântânele, Romania 2023-05-22       4.10     11.70   \n",
       "6814       2 km S of Livezile, Romania 1991-07-12       5.60     93.49   \n",
       "7186     5 km W of Nistore?ti, Romania 1990-05-30       7.00    415.81   \n",
       "9615   6 km E of Stari Bar, Montenegro 1979-04-15       6.90    484.61   \n",
       "\n",
       "             ratio  \n",
       "10090  2699.078329  \n",
       "52     1510.587070  \n",
       "9869   1149.616111  \n",
       "8182    947.936796  \n",
       "6649    832.374106  \n",
       "10184   828.549181  \n",
       "53      822.070771  \n",
       "6814    780.651171  \n",
       "7186    748.587085  \n",
       "9615    584.960739  "
      ]
     },
     "execution_count": 19,
     "metadata": {},
     "output_type": "execute_result"
    }
   ],
   "source": [
    "df.sort_values('ratio', ascending=False)[:10][['place','time','magnitude', 'distance', 'ratio']]"
   ]
  },
  {
   "cell_type": "markdown",
   "metadata": {},
   "source": [
    "Now let's get a closer look to the earthquakes that had their epicenters close to Arad"
   ]
  },
  {
   "cell_type": "code",
   "execution_count": 20,
   "metadata": {},
   "outputs": [
    {
     "data": {
      "text/html": [
       "<div>\n",
       "<style scoped>\n",
       "    .dataframe tbody tr th:only-of-type {\n",
       "        vertical-align: middle;\n",
       "    }\n",
       "\n",
       "    .dataframe tbody tr th {\n",
       "        vertical-align: top;\n",
       "    }\n",
       "\n",
       "    .dataframe thead th {\n",
       "        text-align: right;\n",
       "    }\n",
       "</style>\n",
       "<table border=\"1\" class=\"dataframe\">\n",
       "  <thead>\n",
       "    <tr style=\"text-align: right;\">\n",
       "      <th></th>\n",
       "      <th>place</th>\n",
       "      <th>magnitude</th>\n",
       "      <th>time</th>\n",
       "      <th>lat</th>\n",
       "      <th>lon</th>\n",
       "      <th>distance</th>\n",
       "      <th>ratio</th>\n",
       "    </tr>\n",
       "  </thead>\n",
       "  <tbody>\n",
       "    <tr>\n",
       "      <th>37</th>\n",
       "      <td>6 km SE of Szarvas, Hungary</td>\n",
       "      <td>3.5</td>\n",
       "      <td>2023-08-20</td>\n",
       "      <td>46.8276</td>\n",
       "      <td>20.6207</td>\n",
       "      <td>88.46</td>\n",
       "      <td>38.877234</td>\n",
       "    </tr>\n",
       "    <tr>\n",
       "      <th>38</th>\n",
       "      <td>10 km E of Szarvas, Hungary</td>\n",
       "      <td>3.4</td>\n",
       "      <td>2023-08-19</td>\n",
       "      <td>46.8563</td>\n",
       "      <td>20.6839</td>\n",
       "      <td>88.35</td>\n",
       "      <td>32.240844</td>\n",
       "    </tr>\n",
       "    <tr>\n",
       "      <th>39</th>\n",
       "      <td>10 km ESE of Szarvas, Hungary</td>\n",
       "      <td>3.7</td>\n",
       "      <td>2023-08-19</td>\n",
       "      <td>46.8358</td>\n",
       "      <td>20.6764</td>\n",
       "      <td>86.76</td>\n",
       "      <td>56.884201</td>\n",
       "    </tr>\n",
       "    <tr>\n",
       "      <th>40</th>\n",
       "      <td>10 km ESE of Szarvas, Hungary</td>\n",
       "      <td>3.6</td>\n",
       "      <td>2023-08-19</td>\n",
       "      <td>46.8446</td>\n",
       "      <td>20.6875</td>\n",
       "      <td>87.11</td>\n",
       "      <td>47.413088</td>\n",
       "    </tr>\n",
       "    <tr>\n",
       "      <th>52</th>\n",
       "      <td>6 km SW of Frumu?eni, Romania</td>\n",
       "      <td>4.7</td>\n",
       "      <td>2023-06-06</td>\n",
       "      <td>46.0645</td>\n",
       "      <td>21.4014</td>\n",
       "      <td>15.47</td>\n",
       "      <td>1510.587070</td>\n",
       "    </tr>\n",
       "  </tbody>\n",
       "</table>\n",
       "</div>"
      ],
      "text/plain": [
       "                            place  magnitude       time      lat      lon  \\\n",
       "37    6 km SE of Szarvas, Hungary        3.5 2023-08-20  46.8276  20.6207   \n",
       "38    10 km E of Szarvas, Hungary        3.4 2023-08-19  46.8563  20.6839   \n",
       "39  10 km ESE of Szarvas, Hungary        3.7 2023-08-19  46.8358  20.6764   \n",
       "40  10 km ESE of Szarvas, Hungary        3.6 2023-08-19  46.8446  20.6875   \n",
       "52  6 km SW of Frumu?eni, Romania        4.7 2023-06-06  46.0645  21.4014   \n",
       "\n",
       "    distance        ratio  \n",
       "37     88.46    38.877234  \n",
       "38     88.35    32.240844  \n",
       "39     86.76    56.884201  \n",
       "40     87.11    47.413088  \n",
       "52     15.47  1510.587070  "
      ]
     },
     "execution_count": 20,
     "metadata": {},
     "output_type": "execute_result"
    }
   ],
   "source": [
    "df_close = df[df['distance']<=100].copy(deep=True)\n",
    "df_close.head()"
   ]
  },
  {
   "cell_type": "markdown",
   "metadata": {},
   "source": [
    "I want to see a graph of the number of earthquakes that happened each year"
   ]
  },
  {
   "cell_type": "markdown",
   "metadata": {},
   "source": [
    "Let's add a year column and group the values by that column"
   ]
  },
  {
   "cell_type": "code",
   "execution_count": 21,
   "metadata": {},
   "outputs": [
    {
     "data": {
      "text/html": [
       "<div>\n",
       "<style scoped>\n",
       "    .dataframe tbody tr th:only-of-type {\n",
       "        vertical-align: middle;\n",
       "    }\n",
       "\n",
       "    .dataframe tbody tr th {\n",
       "        vertical-align: top;\n",
       "    }\n",
       "\n",
       "    .dataframe thead th {\n",
       "        text-align: right;\n",
       "    }\n",
       "</style>\n",
       "<table border=\"1\" class=\"dataframe\">\n",
       "  <thead>\n",
       "    <tr style=\"text-align: right;\">\n",
       "      <th></th>\n",
       "      <th>place</th>\n",
       "      <th>magnitude</th>\n",
       "      <th>time</th>\n",
       "      <th>lat</th>\n",
       "      <th>lon</th>\n",
       "      <th>distance</th>\n",
       "      <th>ratio</th>\n",
       "      <th>year</th>\n",
       "    </tr>\n",
       "  </thead>\n",
       "  <tbody>\n",
       "    <tr>\n",
       "      <th>37</th>\n",
       "      <td>6 km SE of Szarvas, Hungary</td>\n",
       "      <td>3.5</td>\n",
       "      <td>2023-08-20</td>\n",
       "      <td>46.8276</td>\n",
       "      <td>20.6207</td>\n",
       "      <td>88.46</td>\n",
       "      <td>38.877234</td>\n",
       "      <td>2023</td>\n",
       "    </tr>\n",
       "    <tr>\n",
       "      <th>38</th>\n",
       "      <td>10 km E of Szarvas, Hungary</td>\n",
       "      <td>3.4</td>\n",
       "      <td>2023-08-19</td>\n",
       "      <td>46.8563</td>\n",
       "      <td>20.6839</td>\n",
       "      <td>88.35</td>\n",
       "      <td>32.240844</td>\n",
       "      <td>2023</td>\n",
       "    </tr>\n",
       "    <tr>\n",
       "      <th>39</th>\n",
       "      <td>10 km ESE of Szarvas, Hungary</td>\n",
       "      <td>3.7</td>\n",
       "      <td>2023-08-19</td>\n",
       "      <td>46.8358</td>\n",
       "      <td>20.6764</td>\n",
       "      <td>86.76</td>\n",
       "      <td>56.884201</td>\n",
       "      <td>2023</td>\n",
       "    </tr>\n",
       "    <tr>\n",
       "      <th>40</th>\n",
       "      <td>10 km ESE of Szarvas, Hungary</td>\n",
       "      <td>3.6</td>\n",
       "      <td>2023-08-19</td>\n",
       "      <td>46.8446</td>\n",
       "      <td>20.6875</td>\n",
       "      <td>87.11</td>\n",
       "      <td>47.413088</td>\n",
       "      <td>2023</td>\n",
       "    </tr>\n",
       "    <tr>\n",
       "      <th>52</th>\n",
       "      <td>6 km SW of Frumu?eni, Romania</td>\n",
       "      <td>4.7</td>\n",
       "      <td>2023-06-06</td>\n",
       "      <td>46.0645</td>\n",
       "      <td>21.4014</td>\n",
       "      <td>15.47</td>\n",
       "      <td>1510.587070</td>\n",
       "      <td>2023</td>\n",
       "    </tr>\n",
       "  </tbody>\n",
       "</table>\n",
       "</div>"
      ],
      "text/plain": [
       "                            place  magnitude       time      lat      lon  \\\n",
       "37    6 km SE of Szarvas, Hungary        3.5 2023-08-20  46.8276  20.6207   \n",
       "38    10 km E of Szarvas, Hungary        3.4 2023-08-19  46.8563  20.6839   \n",
       "39  10 km ESE of Szarvas, Hungary        3.7 2023-08-19  46.8358  20.6764   \n",
       "40  10 km ESE of Szarvas, Hungary        3.6 2023-08-19  46.8446  20.6875   \n",
       "52  6 km SW of Frumu?eni, Romania        4.7 2023-06-06  46.0645  21.4014   \n",
       "\n",
       "    distance        ratio  year  \n",
       "37     88.46    38.877234  2023  \n",
       "38     88.35    32.240844  2023  \n",
       "39     86.76    56.884201  2023  \n",
       "40     87.11    47.413088  2023  \n",
       "52     15.47  1510.587070  2023  "
      ]
     },
     "execution_count": 21,
     "metadata": {},
     "output_type": "execute_result"
    }
   ],
   "source": [
    "df_close['year'] = df_close['time'].dt.year\n",
    "df_close.head()"
   ]
  },
  {
   "cell_type": "code",
   "execution_count": 22,
   "metadata": {},
   "outputs": [
    {
     "data": {
      "text/plain": [
       "year\n",
       "1959    1\n",
       "1960    0\n",
       "1961    0\n",
       "1962    0\n",
       "1963    0\n",
       "       ..\n",
       "2019    0\n",
       "2020    0\n",
       "2021    0\n",
       "2022    0\n",
       "2023    6\n",
       "Name: count, Length: 65, dtype: int64"
      ]
     },
     "execution_count": 22,
     "metadata": {},
     "output_type": "execute_result"
    }
   ],
   "source": [
    "eq_per_yr = df_close.value_counts('year')\n",
    "\n",
    "for yr in range(eq_per_yr.index.min(), eq_per_yr.index.max()+1):\n",
    "    if yr not in eq_per_yr.index:\n",
    "        eq_per_yr[yr]=0\n",
    "eq_per_yr = eq_per_yr.sort_index()\n",
    "eq_per_yr"
   ]
  },
  {
   "cell_type": "code",
   "execution_count": 23,
   "metadata": {},
   "outputs": [
    {
     "data": {
      "image/png": "[encoded data removed]",
      "text/plain": [
       "<Figure size 640x480 with 1 Axes>"
      ]
     },
     "metadata": {},
     "output_type": "display_data"
    }
   ],
   "source": [
    "plt.plot(eq_per_yr.index, eq_per_yr.values)\n",
    "plt.xlabel('Year')\n",
    "plt.ylabel('Number of earthquakes')\n",
    "plt.title('Earthquakes near Arad')\n",
    "plt.show()"
   ]
  },
  {
   "cell_type": "markdown",
   "metadata": {},
   "source": [
    "We can see that an extremely high amount of earthquakes occurred near Arad in 1991."
   ]
  },
  {
   "cell_type": "code",
   "execution_count": 24,
   "metadata": {},
   "outputs": [
    {
     "data": {
      "text/html": [
       "<div>\n",
       "<style scoped>\n",
       "    .dataframe tbody tr th:only-of-type {\n",
       "        vertical-align: middle;\n",
       "    }\n",
       "\n",
       "    .dataframe tbody tr th {\n",
       "        vertical-align: top;\n",
       "    }\n",
       "\n",
       "    .dataframe thead th {\n",
       "        text-align: right;\n",
       "    }\n",
       "</style>\n",
       "<table border=\"1\" class=\"dataframe\">\n",
       "  <thead>\n",
       "    <tr style=\"text-align: right;\">\n",
       "      <th></th>\n",
       "      <th>place</th>\n",
       "      <th>magnitude</th>\n",
       "      <th>time</th>\n",
       "      <th>lat</th>\n",
       "      <th>lon</th>\n",
       "      <th>distance</th>\n",
       "      <th>ratio</th>\n",
       "      <th>year</th>\n",
       "    </tr>\n",
       "  </thead>\n",
       "  <tbody>\n",
       "    <tr>\n",
       "      <th>6814</th>\n",
       "      <td>2 km S of Livezile, Romania</td>\n",
       "      <td>5.6</td>\n",
       "      <td>1991-07-12</td>\n",
       "      <td>45.364</td>\n",
       "      <td>21.057</td>\n",
       "      <td>93.49</td>\n",
       "      <td>780.651171</td>\n",
       "      <td>1991</td>\n",
       "    </tr>\n",
       "    <tr>\n",
       "      <th>6813</th>\n",
       "      <td>3 km SE of Ghilad, Romania</td>\n",
       "      <td>4.1</td>\n",
       "      <td>1991-07-12</td>\n",
       "      <td>45.446</td>\n",
       "      <td>21.167</td>\n",
       "      <td>83.06</td>\n",
       "      <td>115.798555</td>\n",
       "      <td>1991</td>\n",
       "    </tr>\n",
       "    <tr>\n",
       "      <th>6811</th>\n",
       "      <td>3 km S of Banloc, Romania</td>\n",
       "      <td>3.5</td>\n",
       "      <td>1991-07-13</td>\n",
       "      <td>45.358</td>\n",
       "      <td>21.137</td>\n",
       "      <td>93.07</td>\n",
       "      <td>36.951543</td>\n",
       "      <td>1991</td>\n",
       "    </tr>\n",
       "    <tr>\n",
       "      <th>6812</th>\n",
       "      <td>2 km NE of Deta, Romania</td>\n",
       "      <td>4.0</td>\n",
       "      <td>1991-07-13</td>\n",
       "      <td>45.403</td>\n",
       "      <td>21.241</td>\n",
       "      <td>87.29</td>\n",
       "      <td>93.848093</td>\n",
       "      <td>1991</td>\n",
       "    </tr>\n",
       "    <tr>\n",
       "      <th>6810</th>\n",
       "      <td>Romania</td>\n",
       "      <td>3.3</td>\n",
       "      <td>1991-07-14</td>\n",
       "      <td>45.404</td>\n",
       "      <td>21.076</td>\n",
       "      <td>88.83</td>\n",
       "      <td>26.410763</td>\n",
       "      <td>1991</td>\n",
       "    </tr>\n",
       "    <tr>\n",
       "      <th>6808</th>\n",
       "      <td>3 km S of Ghilad, Romania</td>\n",
       "      <td>4.1</td>\n",
       "      <td>1991-07-14</td>\n",
       "      <td>45.431</td>\n",
       "      <td>21.129</td>\n",
       "      <td>85.14</td>\n",
       "      <td>112.969556</td>\n",
       "      <td>1991</td>\n",
       "    </tr>\n",
       "    <tr>\n",
       "      <th>6805</th>\n",
       "      <td>4 km SSW of Banloc, Romania</td>\n",
       "      <td>4.4</td>\n",
       "      <td>1991-07-19</td>\n",
       "      <td>45.344</td>\n",
       "      <td>21.123</td>\n",
       "      <td>94.77</td>\n",
       "      <td>160.609606</td>\n",
       "      <td>1991</td>\n",
       "    </tr>\n",
       "    <tr>\n",
       "      <th>6804</th>\n",
       "      <td>7 km ENE of Stari Lec, Serbia</td>\n",
       "      <td>5.1</td>\n",
       "      <td>1991-07-19</td>\n",
       "      <td>45.312</td>\n",
       "      <td>21.053</td>\n",
       "      <td>99.22</td>\n",
       "      <td>400.504059</td>\n",
       "      <td>1991</td>\n",
       "    </tr>\n",
       "    <tr>\n",
       "      <th>6802</th>\n",
       "      <td>1 km SE of Deta, Romania</td>\n",
       "      <td>3.8</td>\n",
       "      <td>1991-07-20</td>\n",
       "      <td>45.375</td>\n",
       "      <td>21.240</td>\n",
       "      <td>90.40</td>\n",
       "      <td>64.926942</td>\n",
       "      <td>1991</td>\n",
       "    </tr>\n",
       "    <tr>\n",
       "      <th>6801</th>\n",
       "      <td>5 km SSW of Banloc, Romania</td>\n",
       "      <td>4.1</td>\n",
       "      <td>1991-07-20</td>\n",
       "      <td>45.346</td>\n",
       "      <td>21.108</td>\n",
       "      <td>94.73</td>\n",
       "      <td>101.533073</td>\n",
       "      <td>1991</td>\n",
       "    </tr>\n",
       "    <tr>\n",
       "      <th>6799</th>\n",
       "      <td>3 km W of Ghilad, Romania</td>\n",
       "      <td>3.2</td>\n",
       "      <td>1991-07-22</td>\n",
       "      <td>45.469</td>\n",
       "      <td>21.088</td>\n",
       "      <td>81.57</td>\n",
       "      <td>23.547478</td>\n",
       "      <td>1991</td>\n",
       "    </tr>\n",
       "    <tr>\n",
       "      <th>6788</th>\n",
       "      <td>5 km NNW of Veliki Gaj, Serbia</td>\n",
       "      <td>4.3</td>\n",
       "      <td>1991-07-31</td>\n",
       "      <td>45.335</td>\n",
       "      <td>21.138</td>\n",
       "      <td>95.59</td>\n",
       "      <td>137.130007</td>\n",
       "      <td>1991</td>\n",
       "    </tr>\n",
       "    <tr>\n",
       "      <th>6787</th>\n",
       "      <td>5 km WSW of Ghilad, Romania</td>\n",
       "      <td>3.7</td>\n",
       "      <td>1991-08-01</td>\n",
       "      <td>45.447</td>\n",
       "      <td>21.069</td>\n",
       "      <td>84.27</td>\n",
       "      <td>58.565009</td>\n",
       "      <td>1991</td>\n",
       "    </tr>\n",
       "    <tr>\n",
       "      <th>6783</th>\n",
       "      <td>1 km NNE of Livezile, Romania</td>\n",
       "      <td>4.1</td>\n",
       "      <td>1991-08-06</td>\n",
       "      <td>45.403</td>\n",
       "      <td>21.069</td>\n",
       "      <td>89.05</td>\n",
       "      <td>108.009298</td>\n",
       "      <td>1991</td>\n",
       "    </tr>\n",
       "    <tr>\n",
       "      <th>6779</th>\n",
       "      <td>7 km N of Velika Greda, Serbia</td>\n",
       "      <td>3.8</td>\n",
       "      <td>1991-08-07</td>\n",
       "      <td>45.308</td>\n",
       "      <td>21.051</td>\n",
       "      <td>99.68</td>\n",
       "      <td>58.882379</td>\n",
       "      <td>1991</td>\n",
       "    </tr>\n",
       "    <tr>\n",
       "      <th>6773</th>\n",
       "      <td>3 km S of Ghilad, Romania</td>\n",
       "      <td>3.3</td>\n",
       "      <td>1991-08-11</td>\n",
       "      <td>45.432</td>\n",
       "      <td>21.135</td>\n",
       "      <td>84.96</td>\n",
       "      <td>27.613796</td>\n",
       "      <td>1991</td>\n",
       "    </tr>\n",
       "    <tr>\n",
       "      <th>6772</th>\n",
       "      <td>1 km E of Ghilad, Romania</td>\n",
       "      <td>4.2</td>\n",
       "      <td>1991-08-12</td>\n",
       "      <td>45.467</td>\n",
       "      <td>21.153</td>\n",
       "      <td>80.90</td>\n",
       "      <td>139.050279</td>\n",
       "      <td>1991</td>\n",
       "    </tr>\n",
       "    <tr>\n",
       "      <th>6769</th>\n",
       "      <td>2 km NE of Ghilad, Romania</td>\n",
       "      <td>4.7</td>\n",
       "      <td>1991-08-14</td>\n",
       "      <td>45.478</td>\n",
       "      <td>21.158</td>\n",
       "      <td>79.63</td>\n",
       "      <td>293.467060</td>\n",
       "      <td>1991</td>\n",
       "    </tr>\n",
       "    <tr>\n",
       "      <th>6768</th>\n",
       "      <td>4 km ENE of Voiteg, Romania</td>\n",
       "      <td>4.5</td>\n",
       "      <td>1991-08-15</td>\n",
       "      <td>45.485</td>\n",
       "      <td>21.286</td>\n",
       "      <td>78.04</td>\n",
       "      <td>225.716901</td>\n",
       "      <td>1991</td>\n",
       "    </tr>\n",
       "    <tr>\n",
       "      <th>6762</th>\n",
       "      <td>5 km N of Giera, Romania</td>\n",
       "      <td>3.0</td>\n",
       "      <td>1991-08-18</td>\n",
       "      <td>45.459</td>\n",
       "      <td>20.978</td>\n",
       "      <td>84.81</td>\n",
       "      <td>14.888162</td>\n",
       "      <td>1991</td>\n",
       "    </tr>\n",
       "  </tbody>\n",
       "</table>\n",
       "</div>"
      ],
      "text/plain": [
       "                               place  magnitude       time     lat     lon  \\\n",
       "6814     2 km S of Livezile, Romania        5.6 1991-07-12  45.364  21.057   \n",
       "6813      3 km SE of Ghilad, Romania        4.1 1991-07-12  45.446  21.167   \n",
       "6811       3 km S of Banloc, Romania        3.5 1991-07-13  45.358  21.137   \n",
       "6812        2 km NE of Deta, Romania        4.0 1991-07-13  45.403  21.241   \n",
       "6810                         Romania        3.3 1991-07-14  45.404  21.076   \n",
       "6808       3 km S of Ghilad, Romania        4.1 1991-07-14  45.431  21.129   \n",
       "6805     4 km SSW of Banloc, Romania        4.4 1991-07-19  45.344  21.123   \n",
       "6804   7 km ENE of Stari Lec, Serbia        5.1 1991-07-19  45.312  21.053   \n",
       "6802        1 km SE of Deta, Romania        3.8 1991-07-20  45.375  21.240   \n",
       "6801     5 km SSW of Banloc, Romania        4.1 1991-07-20  45.346  21.108   \n",
       "6799       3 km W of Ghilad, Romania        3.2 1991-07-22  45.469  21.088   \n",
       "6788  5 km NNW of Veliki Gaj, Serbia        4.3 1991-07-31  45.335  21.138   \n",
       "6787     5 km WSW of Ghilad, Romania        3.7 1991-08-01  45.447  21.069   \n",
       "6783   1 km NNE of Livezile, Romania        4.1 1991-08-06  45.403  21.069   \n",
       "6779  7 km N of Velika Greda, Serbia        3.8 1991-08-07  45.308  21.051   \n",
       "6773       3 km S of Ghilad, Romania        3.3 1991-08-11  45.432  21.135   \n",
       "6772       1 km E of Ghilad, Romania        4.2 1991-08-12  45.467  21.153   \n",
       "6769      2 km NE of Ghilad, Romania        4.7 1991-08-14  45.478  21.158   \n",
       "6768     4 km ENE of Voiteg, Romania        4.5 1991-08-15  45.485  21.286   \n",
       "6762        5 km N of Giera, Romania        3.0 1991-08-18  45.459  20.978   \n",
       "\n",
       "      distance       ratio  year  \n",
       "6814     93.49  780.651171  1991  \n",
       "6813     83.06  115.798555  1991  \n",
       "6811     93.07   36.951543  1991  \n",
       "6812     87.29   93.848093  1991  \n",
       "6810     88.83   26.410763  1991  \n",
       "6808     85.14  112.969556  1991  \n",
       "6805     94.77  160.609606  1991  \n",
       "6804     99.22  400.504059  1991  \n",
       "6802     90.40   64.926942  1991  \n",
       "6801     94.73  101.533073  1991  \n",
       "6799     81.57   23.547478  1991  \n",
       "6788     95.59  137.130007  1991  \n",
       "6787     84.27   58.565009  1991  \n",
       "6783     89.05  108.009298  1991  \n",
       "6779     99.68   58.882379  1991  \n",
       "6773     84.96   27.613796  1991  \n",
       "6772     80.90  139.050279  1991  \n",
       "6769     79.63  293.467060  1991  \n",
       "6768     78.04  225.716901  1991  \n",
       "6762     84.81   14.888162  1991  "
      ]
     },
     "execution_count": 24,
     "metadata": {},
     "output_type": "execute_result"
    }
   ],
   "source": [
    "eq_1991 = df_close[df_close['year']==1991].sort_values('time').copy(deep=True)\n",
    "eq_1991.head(20)"
   ]
  },
  {
   "cell_type": "code",
   "execution_count": 25,
   "metadata": {},
   "outputs": [],
   "source": [
    "eq_1991_dates = eq_1991.value_counts('time').sort_index()\n"
   ]
  },
  {
   "cell_type": "code",
   "execution_count": 26,
   "metadata": {},
   "outputs": [
    {
     "data": {
      "image/png": "[encoded data removed]",
      "text/plain": [
       "<Figure size 1600x600 with 1 Axes>"
      ]
     },
     "metadata": {},
     "output_type": "display_data"
    }
   ],
   "source": [
    "plt.figure(figsize=(16, 6))\n",
    "xlabels = [date.strftime('%d-%b') for date in eq_1991_dates.index]\n",
    "bars = plt.bar(xlabels, eq_1991_dates.values)  \n",
    "plt.xticks(xlabels, rotation=90)\n",
    "\n",
    "plt.yticks(range(1,4), range(1,4))\n",
    "# plt.grid()\n",
    "plt.show()\n"
   ]
  },
  {
   "cell_type": "markdown",
   "metadata": {},
   "source": [
    "The dates are spread apart, so the earthquakes are very unlikely to be duplicates, considering the magnitudes and locations are different too. "
   ]
  },
  {
   "cell_type": "code",
   "execution_count": 27,
   "metadata": {},
   "outputs": [
    {
     "data": {
      "text/html": [
       "<div>\n",
       "<style scoped>\n",
       "    .dataframe tbody tr th:only-of-type {\n",
       "        vertical-align: middle;\n",
       "    }\n",
       "\n",
       "    .dataframe tbody tr th {\n",
       "        vertical-align: top;\n",
       "    }\n",
       "\n",
       "    .dataframe thead th {\n",
       "        text-align: right;\n",
       "    }\n",
       "</style>\n",
       "<table border=\"1\" class=\"dataframe\">\n",
       "  <thead>\n",
       "    <tr style=\"text-align: right;\">\n",
       "      <th></th>\n",
       "      <th>place</th>\n",
       "      <th>magnitude</th>\n",
       "      <th>time</th>\n",
       "      <th>lat</th>\n",
       "      <th>lon</th>\n",
       "      <th>distance</th>\n",
       "      <th>ratio</th>\n",
       "      <th>year</th>\n",
       "    </tr>\n",
       "  </thead>\n",
       "  <tbody>\n",
       "    <tr>\n",
       "      <th>6582</th>\n",
       "      <td>5 km ESE of Bogda, Romania</td>\n",
       "      <td>4.6</td>\n",
       "      <td>1992-03-02</td>\n",
       "      <td>45.952</td>\n",
       "      <td>21.630</td>\n",
       "      <td>36.16</td>\n",
       "      <td>561.949752</td>\n",
       "      <td>1992</td>\n",
       "    </tr>\n",
       "    <tr>\n",
       "      <th>6342</th>\n",
       "      <td>3 km WNW of Giulv?z, Romania</td>\n",
       "      <td>4.6</td>\n",
       "      <td>1992-12-19</td>\n",
       "      <td>45.561</td>\n",
       "      <td>20.950</td>\n",
       "      <td>74.82</td>\n",
       "      <td>271.586515</td>\n",
       "      <td>1992</td>\n",
       "    </tr>\n",
       "    <tr>\n",
       "      <th>6340</th>\n",
       "      <td>3 km E of Giulv?z, Romania</td>\n",
       "      <td>3.6</td>\n",
       "      <td>1992-12-23</td>\n",
       "      <td>45.555</td>\n",
       "      <td>21.031</td>\n",
       "      <td>73.39</td>\n",
       "      <td>56.276796</td>\n",
       "      <td>1992</td>\n",
       "    </tr>\n",
       "  </tbody>\n",
       "</table>\n",
       "</div>"
      ],
      "text/plain": [
       "                             place  magnitude       time     lat     lon  \\\n",
       "6582    5 km ESE of Bogda, Romania        4.6 1992-03-02  45.952  21.630   \n",
       "6342  3 km WNW of Giulv?z, Romania        4.6 1992-12-19  45.561  20.950   \n",
       "6340    3 km E of Giulv?z, Romania        3.6 1992-12-23  45.555  21.031   \n",
       "\n",
       "      distance       ratio  year  \n",
       "6582     36.16  561.949752  1992  \n",
       "6342     74.82  271.586515  1992  \n",
       "6340     73.39   56.276796  1992  "
      ]
     },
     "execution_count": 27,
     "metadata": {},
     "output_type": "execute_result"
    }
   ],
   "source": [
    "df_close[df_close['year']==1992].sort_values('time')"
   ]
  },
  {
   "cell_type": "markdown",
   "metadata": {},
   "source": [
    "It is interesting that they only occured on the second half of the year, and no following earthquakes in the beginning of the next year."
   ]
  },
  {
   "cell_type": "markdown",
   "metadata": {},
   "source": [
    "Let's visualize the locations of the earthquakes"
   ]
  },
  {
   "cell_type": "code",
   "execution_count": 28,
   "metadata": {},
   "outputs": [],
   "source": [
    "import plotly.express as px"
   ]
  },
  {
   "cell_type": "code",
   "execution_count": 29,
   "metadata": {},
   "outputs": [],
   "source": [
    "eq_1991['date'] = eq_1991['time'].apply(lambda x: x.strftime('%d-%b'))"
   ]
  },
  {
   "cell_type": "code",
   "execution_count": 30,
   "metadata": {},
   "outputs": [
    {
     "data": {
      "text/html": [
       "<div>\n",
       "<style scoped>\n",
       "    .dataframe tbody tr th:only-of-type {\n",
       "        vertical-align: middle;\n",
       "    }\n",
       "\n",
       "    .dataframe tbody tr th {\n",
       "        vertical-align: top;\n",
       "    }\n",
       "\n",
       "    .dataframe thead th {\n",
       "        text-align: right;\n",
       "    }\n",
       "</style>\n",
       "<table border=\"1\" class=\"dataframe\">\n",
       "  <thead>\n",
       "    <tr style=\"text-align: right;\">\n",
       "      <th></th>\n",
       "      <th>place</th>\n",
       "      <th>magnitude</th>\n",
       "      <th>time</th>\n",
       "      <th>lat</th>\n",
       "      <th>lon</th>\n",
       "      <th>distance</th>\n",
       "      <th>ratio</th>\n",
       "      <th>year</th>\n",
       "      <th>date</th>\n",
       "    </tr>\n",
       "  </thead>\n",
       "  <tbody>\n",
       "    <tr>\n",
       "      <th>6814</th>\n",
       "      <td>2 km S of Livezile, Romania</td>\n",
       "      <td>5.6</td>\n",
       "      <td>1991-07-12</td>\n",
       "      <td>45.364</td>\n",
       "      <td>21.057</td>\n",
       "      <td>93.49</td>\n",
       "      <td>780.651171</td>\n",
       "      <td>1991</td>\n",
       "      <td>12-Jul</td>\n",
       "    </tr>\n",
       "    <tr>\n",
       "      <th>6813</th>\n",
       "      <td>3 km SE of Ghilad, Romania</td>\n",
       "      <td>4.1</td>\n",
       "      <td>1991-07-12</td>\n",
       "      <td>45.446</td>\n",
       "      <td>21.167</td>\n",
       "      <td>83.06</td>\n",
       "      <td>115.798555</td>\n",
       "      <td>1991</td>\n",
       "      <td>12-Jul</td>\n",
       "    </tr>\n",
       "    <tr>\n",
       "      <th>6811</th>\n",
       "      <td>3 km S of Banloc, Romania</td>\n",
       "      <td>3.5</td>\n",
       "      <td>1991-07-13</td>\n",
       "      <td>45.358</td>\n",
       "      <td>21.137</td>\n",
       "      <td>93.07</td>\n",
       "      <td>36.951543</td>\n",
       "      <td>1991</td>\n",
       "      <td>13-Jul</td>\n",
       "    </tr>\n",
       "    <tr>\n",
       "      <th>6812</th>\n",
       "      <td>2 km NE of Deta, Romania</td>\n",
       "      <td>4.0</td>\n",
       "      <td>1991-07-13</td>\n",
       "      <td>45.403</td>\n",
       "      <td>21.241</td>\n",
       "      <td>87.29</td>\n",
       "      <td>93.848093</td>\n",
       "      <td>1991</td>\n",
       "      <td>13-Jul</td>\n",
       "    </tr>\n",
       "    <tr>\n",
       "      <th>6810</th>\n",
       "      <td>Romania</td>\n",
       "      <td>3.3</td>\n",
       "      <td>1991-07-14</td>\n",
       "      <td>45.404</td>\n",
       "      <td>21.076</td>\n",
       "      <td>88.83</td>\n",
       "      <td>26.410763</td>\n",
       "      <td>1991</td>\n",
       "      <td>14-Jul</td>\n",
       "    </tr>\n",
       "  </tbody>\n",
       "</table>\n",
       "</div>"
      ],
      "text/plain": [
       "                            place  magnitude       time     lat     lon  \\\n",
       "6814  2 km S of Livezile, Romania        5.6 1991-07-12  45.364  21.057   \n",
       "6813   3 km SE of Ghilad, Romania        4.1 1991-07-12  45.446  21.167   \n",
       "6811    3 km S of Banloc, Romania        3.5 1991-07-13  45.358  21.137   \n",
       "6812     2 km NE of Deta, Romania        4.0 1991-07-13  45.403  21.241   \n",
       "6810                      Romania        3.3 1991-07-14  45.404  21.076   \n",
       "\n",
       "      distance       ratio  year    date  \n",
       "6814     93.49  780.651171  1991  12-Jul  \n",
       "6813     83.06  115.798555  1991  12-Jul  \n",
       "6811     93.07   36.951543  1991  13-Jul  \n",
       "6812     87.29   93.848093  1991  13-Jul  \n",
       "6810     88.83   26.410763  1991  14-Jul  "
      ]
     },
     "execution_count": 30,
     "metadata": {},
     "output_type": "execute_result"
    }
   ],
   "source": [
    "eq_1991.head()"
   ]
  },
  {
   "cell_type": "code",
   "execution_count": 31,
   "metadata": {},
   "outputs": [
    {
     "data": {
      "application/vnd.plotly.v1+json": {
       "config": {
        "plotlyServerURL": "https://plot.ly"
       },
       "data": [
        {
         "customdata": [
          [
           "12-Jul",
           5.6
          ],
          [
           "12-Jul",
           4.1
          ],
          [
           "13-Jul",
           3.5
          ],
          [
           "13-Jul",
           4
          ],
          [
           "14-Jul",
           3.3
          ],
          [
           "14-Jul",
           4.1
          ],
          [
           "19-Jul",
           4.4
          ],
          [
           "19-Jul",
           5.1
          ],
          [
           "20-Jul",
           3.8
          ],
          [
           "20-Jul",
           4.1
          ],
          [
           "22-Jul",
           3.2
          ],
          [
           "31-Jul",
           4.3
          ],
          [
           "01-Aug",
           3.7
          ],
          [
           "06-Aug",
           4.1
          ],
          [
           "07-Aug",
           3.8
          ],
          [
           "11-Aug",
           3.3
          ],
          [
           "12-Aug",
           4.2
          ],
          [
           "14-Aug",
           4.7
          ],
          [
           "15-Aug",
           4.5
          ],
          [
           "18-Aug",
           3
          ],
          [
           "07-Sep",
           3.5
          ],
          [
           "13-Sep",
           3.2
          ],
          [
           "18-Sep",
           3.4
          ],
          [
           "19-Sep",
           3.4
          ],
          [
           "08-Oct",
           3.7
          ],
          [
           "14-Oct",
           4
          ],
          [
           "17-Oct",
           3.4
          ],
          [
           "24-Oct",
           3.3
          ],
          [
           "21-Nov",
           4.4
          ],
          [
           "21-Nov",
           3
          ],
          [
           "23-Nov",
           3
          ],
          [
           "02-Dec",
           3.2
          ],
          [
           "02-Dec",
           5.5
          ],
          [
           "02-Dec",
           3.4
          ],
          [
           "03-Dec",
           3.4
          ],
          [
           "13-Dec",
           3.3
          ],
          [
           "17-Dec",
           3.4
          ],
          [
           "18-Dec",
           3.9
          ],
          [
           "19-Dec",
           4.3
          ],
          [
           "21-Dec",
           3.6
          ],
          [
           "26-Dec",
           3.2
          ]
         ],
         "hovertemplate": "<b>%{hovertext}</b><br><br>magnitude=%{marker.color}<br>lat=%{lat}<br>lon=%{lon}<br>date=%{customdata[0]}<extra></extra>",
         "hovertext": [
          "12-Jul",
          "12-Jul",
          "13-Jul",
          "13-Jul",
          "14-Jul",
          "14-Jul",
          "19-Jul",
          "19-Jul",
          "20-Jul",
          "20-Jul",
          "22-Jul",
          "31-Jul",
          "01-Aug",
          "06-Aug",
          "07-Aug",
          "11-Aug",
          "12-Aug",
          "14-Aug",
          "15-Aug",
          "18-Aug",
          "07-Sep",
          "13-Sep",
          "18-Sep",
          "19-Sep",
          "08-Oct",
          "14-Oct",
          "17-Oct",
          "24-Oct",
          "21-Nov",
          "21-Nov",
          "23-Nov",
          "02-Dec",
          "02-Dec",
          "02-Dec",
          "03-Dec",
          "13-Dec",
          "17-Dec",
          "18-Dec",
          "19-Dec",
          "21-Dec",
          "26-Dec"
         ],
         "lat": [
          45.364,
          45.446,
          45.358,
          45.403,
          45.404,
          45.431,
          45.344,
          45.312,
          45.375,
          45.346,
          45.469,
          45.335,
          45.447,
          45.403,
          45.308,
          45.432,
          45.467,
          45.478,
          45.485,
          45.459,
          45.507,
          45.358,
          45.515,
          45.42,
          45.477,
          45.452,
          45.382,
          45.355,
          45.491,
          45.293,
          45.366,
          45.439,
          45.498,
          45.574,
          45.56,
          45.554,
          45.484,
          45.92,
          45.907,
          45.832,
          45.34
         ],
         "legendgroup": "",
         "lon": [
          21.057,
          21.167,
          21.137,
          21.241,
          21.076,
          21.129,
          21.123,
          21.053,
          21.24,
          21.108,
          21.088,
          21.138,
          21.069,
          21.069,
          21.051,
          21.135,
          21.153,
          21.158,
          21.286,
          20.978,
          20.987,
          21.283,
          21.018,
          20.947,
          21.151,
          21.129,
          21.167,
          21.256,
          21.176,
          21.235,
          21.016,
          21.061,
          21.115,
          20.943,
          20.909,
          21.097,
          21.105,
          21.656,
          21.569,
          21.32,
          21.301
         ],
         "marker": {
          "color": [
           5.6,
           4.1,
           3.5,
           4,
           3.3,
           4.1,
           4.4,
           5.1,
           3.8,
           4.1,
           3.2,
           4.3,
           3.7,
           4.1,
           3.8,
           3.3,
           4.2,
           4.7,
           4.5,
           3,
           3.5,
           3.2,
           3.4,
           3.4,
           3.7,
           4,
           3.4,
           3.3,
           4.4,
           3,
           3,
           3.2,
           5.5,
           3.4,
           3.4,
           3.3,
           3.4,
           3.9,
           4.3,
           3.6,
           3.2
          ],
          "coloraxis": "coloraxis",
          "size": [
           5.6,
           4.1,
           3.5,
           4,
           3.3,
           4.1,
           4.4,
           5.1,
           3.8,
           4.1,
           3.2,
           4.3,
           3.7,
           4.1,
           3.8,
           3.3,
           4.2,
           4.7,
           4.5,
           3,
           3.5,
           3.2,
           3.4,
           3.4,
           3.7,
           4,
           3.4,
           3.3,
           4.4,
           3,
           3,
           3.2,
           5.5,
           3.4,
           3.4,
           3.3,
           3.4,
           3.9,
           4.3,
           3.6,
           3.2
          ],
          "sizemode": "area",
          "sizeref": 0.013999999999999999
         },
         "mode": "markers",
         "name": "",
         "showlegend": false,
         "subplot": "mapbox",
         "type": "scattermapbox"
        }
       ],
       "layout": {
        "coloraxis": {
         "colorbar": {
          "title": {
           "text": "magnitude"
          }
         },
         "colorscale": [
          [
           0,
           "yellow"
          ],
          [
           1,
           "red"
          ]
         ]
        },
        "height": 800,
        "legend": {
         "itemsizing": "constant",
         "tracegroupgap": 0
        },
        "mapbox": {
         "center": {
          "lat": 45.45829268292683,
          "lon": 21.143829268292684
         },
         "domain": {
          "x": [
           0,
           1
          ],
          "y": [
           0,
           1
          ]
         },
         "style": "open-street-map",
         "zoom": 8
        },
        "margin": {
         "b": 0,
         "l": 0,
         "r": 0,
         "t": 0
        },
        "template": {
         "data": {
          "bar": [
           {
            "error_x": {
             "color": "#2a3f5f"
            },
            "error_y": {
             "color": "#2a3f5f"
            },
            "marker": {
             "line": {
              "color": "#E5ECF6",
              "width": 0.5
             },
             "pattern": {
              "fillmode": "overlay",
              "size": 10,
              "solidity": 0.2
             }
            },
            "type": "bar"
           }
          ],
          "barpolar": [
           {
            "marker": {
             "line": {
              "color": "#E5ECF6",
              "width": 0.5
             },
             "pattern": {
              "fillmode": "overlay",
              "size": 10,
              "solidity": 0.2
             }
            },
            "type": "barpolar"
           }
          ],
          "carpet": [
           {
            "aaxis": {
             "endlinecolor": "#2a3f5f",
             "gridcolor": "white",
             "linecolor": "white",
             "minorgridcolor": "white",
             "startlinecolor": "#2a3f5f"
            },
            "baxis": {
             "endlinecolor": "#2a3f5f",
             "gridcolor": "white",
             "linecolor": "white",
             "minorgridcolor": "white",
             "startlinecolor": "#2a3f5f"
            },
            "type": "carpet"
           }
          ],
          "choropleth": [
           {
            "colorbar": {
             "outlinewidth": 0,
             "ticks": ""
            },
            "type": "choropleth"
           }
          ],
          "contour": [
           {
            "colorbar": {
             "outlinewidth": 0,
             "ticks": ""
            },
            "colorscale": [
             [
              0,
              "#0d0887"
             ],
             [
              0.1111111111111111,
              "#46039f"
             ],
             [
              0.2222222222222222,
              "#7201a8"
             ],
             [
              0.3333333333333333,
              "#9c179e"
             ],
             [
              0.4444444444444444,
              "#bd3786"
             ],
             [
              0.5555555555555556,
              "#d8576b"
             ],
             [
              0.6666666666666666,
              "#ed7953"
             ],
             [
              0.7777777777777778,
              "#fb9f3a"
             ],
             [
              0.8888888888888888,
              "#fdca26"
             ],
             [
              1,
              "#f0f921"
             ]
            ],
            "type": "contour"
           }
          ],
          "contourcarpet": [
           {
            "colorbar": {
             "outlinewidth": 0,
             "ticks": ""
            },
            "type": "contourcarpet"
           }
          ],
          "heatmap": [
           {
            "colorbar": {
             "outlinewidth": 0,
             "ticks": ""
            },
            "colorscale": [
             [
              0,
              "#0d0887"
             ],
             [
              0.1111111111111111,
              "#46039f"
             ],
             [
              0.2222222222222222,
              "#7201a8"
             ],
             [
              0.3333333333333333,
              "#9c179e"
             ],
             [
              0.4444444444444444,
              "#bd3786"
             ],
             [
              0.5555555555555556,
              "#d8576b"
             ],
             [
              0.6666666666666666,
              "#ed7953"
             ],
             [
              0.7777777777777778,
              "#fb9f3a"
             ],
             [
              0.8888888888888888,
              "#fdca26"
             ],
             [
              1,
              "#f0f921"
             ]
            ],
            "type": "heatmap"
           }
          ],
          "heatmapgl": [
           {
            "colorbar": {
             "outlinewidth": 0,
             "ticks": ""
            },
            "colorscale": [
             [
              0,
              "#0d0887"
             ],
             [
              0.1111111111111111,
              "#46039f"
             ],
             [
              0.2222222222222222,
              "#7201a8"
             ],
             [
              0.3333333333333333,
              "#9c179e"
             ],
             [
              0.4444444444444444,
              "#bd3786"
             ],
             [
              0.5555555555555556,
              "#d8576b"
             ],
             [
              0.6666666666666666,
              "#ed7953"
             ],
             [
              0.7777777777777778,
              "#fb9f3a"
             ],
             [
              0.8888888888888888,
              "#fdca26"
             ],
             [
              1,
              "#f0f921"
             ]
            ],
            "type": "heatmapgl"
           }
          ],
          "histogram": [
           {
            "marker": {
             "pattern": {
              "fillmode": "overlay",
              "size": 10,
              "solidity": 0.2
             }
            },
            "type": "histogram"
           }
          ],
          "histogram2d": [
           {
            "colorbar": {
             "outlinewidth": 0,
             "ticks": ""
            },
            "colorscale": [
             [
              0,
              "#0d0887"
             ],
             [
              0.1111111111111111,
              "#46039f"
             ],
             [
              0.2222222222222222,
              "#7201a8"
             ],
             [
              0.3333333333333333,
              "#9c179e"
             ],
             [
              0.4444444444444444,
              "#bd3786"
             ],
             [
              0.5555555555555556,
              "#d8576b"
             ],
             [
              0.6666666666666666,
              "#ed7953"
             ],
             [
              0.7777777777777778,
              "#fb9f3a"
             ],
             [
              0.8888888888888888,
              "#fdca26"
             ],
             [
              1,
              "#f0f921"
             ]
            ],
            "type": "histogram2d"
           }
          ],
          "histogram2dcontour": [
           {
            "colorbar": {
             "outlinewidth": 0,
             "ticks": ""
            },
            "colorscale": [
             [
              0,
              "#0d0887"
             ],
             [
              0.1111111111111111,
              "#46039f"
             ],
             [
              0.2222222222222222,
              "#7201a8"
             ],
             [
              0.3333333333333333,
              "#9c179e"
             ],
             [
              0.4444444444444444,
              "#bd3786"
             ],
             [
              0.5555555555555556,
              "#d8576b"
             ],
             [
              0.6666666666666666,
              "#ed7953"
             ],
             [
              0.7777777777777778,
              "#fb9f3a"
             ],
             [
              0.8888888888888888,
              "#fdca26"
             ],
             [
              1,
              "#f0f921"
             ]
            ],
            "type": "histogram2dcontour"
           }
          ],
          "mesh3d": [
           {
            "colorbar": {
             "outlinewidth": 0,
             "ticks": ""
            },
            "type": "mesh3d"
           }
          ],
          "parcoords": [
           {
            "line": {
             "colorbar": {
              "outlinewidth": 0,
              "ticks": ""
             }
            },
            "type": "parcoords"
           }
          ],
          "pie": [
           {
            "automargin": true,
            "type": "pie"
           }
          ],
          "scatter": [
           {
            "fillpattern": {
             "fillmode": "overlay",
             "size": 10,
             "solidity": 0.2
            },
            "type": "scatter"
           }
          ],
          "scatter3d": [
           {
            "line": {
             "colorbar": {
              "outlinewidth": 0,
              "ticks": ""
             }
            },
            "marker": {
             "colorbar": {
              "outlinewidth": 0,
              "ticks": ""
             }
            },
            "type": "scatter3d"
           }
          ],
          "scattercarpet": [
           {
            "marker": {
             "colorbar": {
              "outlinewidth": 0,
              "ticks": ""
             }
            },
            "type": "scattercarpet"
           }
          ],
          "scattergeo": [
           {
            "marker": {
             "colorbar": {
              "outlinewidth": 0,
              "ticks": ""
             }
            },
            "type": "scattergeo"
           }
          ],
          "scattergl": [
           {
            "marker": {
             "colorbar": {
              "outlinewidth": 0,
              "ticks": ""
             }
            },
            "type": "scattergl"
           }
          ],
          "scattermapbox": [
           {
            "marker": {
             "colorbar": {
              "outlinewidth": 0,
              "ticks": ""
             }
            },
            "type": "scattermapbox"
           }
          ],
          "scatterpolar": [
           {
            "marker": {
             "colorbar": {
              "outlinewidth": 0,
              "ticks": ""
             }
            },
            "type": "scatterpolar"
           }
          ],
          "scatterpolargl": [
           {
            "marker": {
             "colorbar": {
              "outlinewidth": 0,
              "ticks": ""
             }
            },
            "type": "scatterpolargl"
           }
          ],
          "scatterternary": [
           {
            "marker": {
             "colorbar": {
              "outlinewidth": 0,
              "ticks": ""
             }
            },
            "type": "scatterternary"
           }
          ],
          "surface": [
           {
            "colorbar": {
             "outlinewidth": 0,
             "ticks": ""
            },
            "colorscale": [
             [
              0,
              "#0d0887"
             ],
             [
              0.1111111111111111,
              "#46039f"
             ],
             [
              0.2222222222222222,
              "#7201a8"
             ],
             [
              0.3333333333333333,
              "#9c179e"
             ],
             [
              0.4444444444444444,
              "#bd3786"
             ],
             [
              0.5555555555555556,
              "#d8576b"
             ],
             [
              0.6666666666666666,
              "#ed7953"
             ],
             [
              0.7777777777777778,
              "#fb9f3a"
             ],
             [
              0.8888888888888888,
              "#fdca26"
             ],
             [
              1,
              "#f0f921"
             ]
            ],
            "type": "surface"
           }
          ],
          "table": [
           {
            "cells": {
             "fill": {
              "color": "#EBF0F8"
             },
             "line": {
              "color": "white"
             }
            },
            "header": {
             "fill": {
              "color": "#C8D4E3"
             },
             "line": {
              "color": "white"
             }
            },
            "type": "table"
           }
          ]
         },
         "layout": {
          "annotationdefaults": {
           "arrowcolor": "#2a3f5f",
           "arrowhead": 0,
           "arrowwidth": 1
          },
          "autotypenumbers": "strict",
          "coloraxis": {
           "colorbar": {
            "outlinewidth": 0,
            "ticks": ""
           }
          },
          "colorscale": {
           "diverging": [
            [
             0,
             "#8e0152"
            ],
            [
             0.1,
             "#c51b7d"
            ],
            [
             0.2,
             "#de77ae"
            ],
            [
             0.3,
             "#f1b6da"
            ],
            [
             0.4,
             "#fde0ef"
            ],
            [
             0.5,
             "#f7f7f7"
            ],
            [
             0.6,
             "#e6f5d0"
            ],
            [
             0.7,
             "#b8e186"
            ],
            [
             0.8,
             "#7fbc41"
            ],
            [
             0.9,
             "#4d9221"
            ],
            [
             1,
             "#276419"
            ]
           ],
           "sequential": [
            [
             0,
             "#0d0887"
            ],
            [
             0.1111111111111111,
             "#46039f"
            ],
            [
             0.2222222222222222,
             "#7201a8"
            ],
            [
             0.3333333333333333,
             "#9c179e"
            ],
            [
             0.4444444444444444,
             "#bd3786"
            ],
            [
             0.5555555555555556,
             "#d8576b"
            ],
            [
             0.6666666666666666,
             "#ed7953"
            ],
            [
             0.7777777777777778,
             "#fb9f3a"
            ],
            [
             0.8888888888888888,
             "#fdca26"
            ],
            [
             1,
             "#f0f921"
            ]
           ],
           "sequentialminus": [
            [
             0,
             "#0d0887"
            ],
            [
             0.1111111111111111,
             "#46039f"
            ],
            [
             0.2222222222222222,
             "#7201a8"
            ],
            [
             0.3333333333333333,
             "#9c179e"
            ],
            [
             0.4444444444444444,
             "#bd3786"
            ],
            [
             0.5555555555555556,
             "#d8576b"
            ],
            [
             0.6666666666666666,
             "#ed7953"
            ],
            [
             0.7777777777777778,
             "#fb9f3a"
            ],
            [
             0.8888888888888888,
             "#fdca26"
            ],
            [
             1,
             "#f0f921"
            ]
           ]
          },
          "colorway": [
           "#636efa",
           "#EF553B",
           "#00cc96",
           "#ab63fa",
           "#FFA15A",
           "#19d3f3",
           "#FF6692",
           "#B6E880",
           "#FF97FF",
           "#FECB52"
          ],
          "font": {
           "color": "#2a3f5f"
          },
          "geo": {
           "bgcolor": "white",
           "lakecolor": "white",
           "landcolor": "#E5ECF6",
           "showlakes": true,
           "showland": true,
           "subunitcolor": "white"
          },
          "hoverlabel": {
           "align": "left"
          },
          "hovermode": "closest",
          "mapbox": {
           "style": "light"
          },
          "paper_bgcolor": "white",
          "plot_bgcolor": "#E5ECF6",
          "polar": {
           "angularaxis": {
            "gridcolor": "white",
            "linecolor": "white",
            "ticks": ""
           },
           "bgcolor": "#E5ECF6",
           "radialaxis": {
            "gridcolor": "white",
            "linecolor": "white",
            "ticks": ""
           }
          },
          "scene": {
           "xaxis": {
            "backgroundcolor": "#E5ECF6",
            "gridcolor": "white",
            "gridwidth": 2,
            "linecolor": "white",
            "showbackground": true,
            "ticks": "",
            "zerolinecolor": "white"
           },
           "yaxis": {
            "backgroundcolor": "#E5ECF6",
            "gridcolor": "white",
            "gridwidth": 2,
            "linecolor": "white",
            "showbackground": true,
            "ticks": "",
            "zerolinecolor": "white"
           },
           "zaxis": {
            "backgroundcolor": "#E5ECF6",
            "gridcolor": "white",
            "gridwidth": 2,
            "linecolor": "white",
            "showbackground": true,
            "ticks": "",
            "zerolinecolor": "white"
           }
          },
          "shapedefaults": {
           "line": {
            "color": "#2a3f5f"
           }
          },
          "ternary": {
           "aaxis": {
            "gridcolor": "white",
            "linecolor": "white",
            "ticks": ""
           },
           "baxis": {
            "gridcolor": "white",
            "linecolor": "white",
            "ticks": ""
           },
           "bgcolor": "#E5ECF6",
           "caxis": {
            "gridcolor": "white",
            "linecolor": "white",
            "ticks": ""
           }
          },
          "title": {
           "x": 0.05
          },
          "xaxis": {
           "automargin": true,
           "gridcolor": "white",
           "linecolor": "white",
           "ticks": "",
           "title": {
            "standoff": 15
           },
           "zerolinecolor": "white",
           "zerolinewidth": 2
          },
          "yaxis": {
           "automargin": true,
           "gridcolor": "white",
           "linecolor": "white",
           "ticks": "",
           "title": {
            "standoff": 15
           },
           "zerolinecolor": "white",
           "zerolinewidth": 2
          }
         }
        },
        "width": 800
       }
      }
     },
     "metadata": {},
     "output_type": "display_data"
    }
   ],
   "source": [
    "\n",
    "\n",
    "color_scale = [(0, 'yellow'), (1,'red')]\n",
    "\n",
    "fig = px.scatter_mapbox(eq_1991, \n",
    "                        lat=\"lat\", \n",
    "                        lon=\"lon\",\n",
    "                        hover_name=\"date\", \n",
    "                        hover_data=[\"date\", \"magnitude\"],\n",
    "                        color=\"magnitude\",\n",
    "                        color_continuous_scale=color_scale,\n",
    "                        size=\"magnitude\",\n",
    "                        zoom=8, \n",
    "                        height=800,\n",
    "                        width=800)\n",
    "\n",
    "fig.update_layout(mapbox_style=\"open-street-map\")\n",
    "fig.update_layout(margin={\"r\":0,\"t\":0,\"l\":0,\"b\":0})\n",
    "fig.show()"
   ]
  },
  {
   "cell_type": "markdown",
   "metadata": {},
   "source": [
    "[note: the interactive map of the earthquakes is not visible on the github page]"
   ]
  },
  {
   "cell_type": "markdown",
   "metadata": {},
   "source": [
    "We can see 2 clusters of earthquakes:\n",
    "-the first cluster, which happened by the end of the year, located to the NE of Timisoara\n",
    "-the second cluster, which happened all throughout the second half of the year, located near Ciacova. Majority of the earthquakes that happened in '91 belong to this cluster. This would be worth investigating further, however, I do not have enough knowledge in seismology to do so."
   ]
  },
  {
   "cell_type": "markdown",
   "metadata": {},
   "source": [
    "Conclusions:\n",
    "\n",
    "We have seen the most \"impactful\" and noticeable earthquakes in Arad.\n",
    "We have also noticed a cluster of earthquakes by the second half of the year 1991.\n",
    "It is unlikely to be a dataset fault or an error, due to the different times, locations and magnitudes of the recorded earthquakes.\n",
    "The cluster in 1991 near Ciacova is worth analyzing further."
   ]
  }
 ],
 "metadata": {
  "kernelspec": {
   "display_name": "Python 3",
   "language": "python",
   "name": "python3"
  },
  "language_info": {
   "codemirror_mode": {
    "name": "ipython",
    "version": 3
   },
   "file_extension": ".py",
   "mimetype": "text/x-python",
   "name": "python",
   "nbconvert_exporter": "python",
   "pygments_lexer": "ipython3",
   "version": "3.11.0"
  }
 },
 "nbformat": 4,
 "nbformat_minor": 2
}
